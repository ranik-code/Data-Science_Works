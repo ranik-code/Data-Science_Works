{
 "cells": [
  {
   "cell_type": "markdown",
   "id": "91440868",
   "metadata": {},
   "source": [
    "# DSE LAB ASSIGNMENT 01\n",
    "\n",
    "## Name: RANI KUMRAWAT\n",
    "\n",
    "## ENROLLMENT NO: 0801CS191072 "
   ]
  },
  {
   "cell_type": "markdown",
   "id": "9e231255",
   "metadata": {},
   "source": [
    "### Q1. After downloading the dataset, we can read it using the csv module, as already shown in the first exercise. In this case, though, we are interested in the rows (each one represents a digit). As such, we will be storing the CSV file by rows."
   ]
  },
  {
   "cell_type": "code",
   "execution_count": 3,
   "id": "fec7b0d7",
   "metadata": {},
   "outputs": [],
   "source": [
    "import csv\n",
    "\n",
    "dataset=[]\n",
    "labels=[]\n",
    "with open(\"mnist.csv\") as f:\n",
    "    for cols in csv.reader(f):\n",
    "        labels.append(int(cols.pop(0)))\n",
    "        dataset.append(list(map(int,cols)))"
   ]
  },
  {
   "cell_type": "markdown",
   "id": "554286e5",
   "metadata": {},
   "source": [
    "### Q2. Create a function that, given a position 1 ≤ k ≤ 10, 000, prints the k th digit of the dataset (i.e. the k th row of the csv file) as a grid of 28 × 28 characters. More specifically, you should map each range of pixel values to the following characters:\n",
    "#### • [0, 64) → \" \"\n",
    "#### • [64, 128) → \".\"\n",
    "#### • [128, 192) → \"*\"\n",
    "#### • [192, 256) → \"#\"\n",
    "\n",
    "### So, for example, you should map the sequence 0, 72, 192, 138, 250 to the string \".#*#\". For Figure 2 (which is the 130th image in the dataset).\n",
    "\n",
    "<img src=\"capture.png\">"
   ]
  },
  {
   "cell_type": "markdown",
   "id": "a3a2448c",
   "metadata": {},
   "source": [
    "##### In particular, we will need to map any pixel value between 0 and 255 to the character we want to display. We will create a function, get_symb(), with exactly this purpose."
   ]
  },
  {
   "cell_type": "code",
   "execution_count": 5,
   "id": "a6fc3ec3",
   "metadata": {},
   "outputs": [
    {
     "data": {
      "text/plain": [
       "[' ', '.', '#', '*', '#']"
      ]
     },
     "execution_count": 5,
     "metadata": {},
     "output_type": "execute_result"
    }
   ],
   "source": [
    "def get_symb(pixel):\n",
    "    ranges = {\n",
    "        (0, 64): \" \",\n",
    "        (64, 128): \".\",\n",
    "        (128, 192): \"*\",\n",
    "        (192, 256): \"#\"\n",
    "    }\n",
    "    for (x,y),symb in ranges.items():\n",
    "        if x <= pixel < y:\n",
    "            return symb\n",
    "\n",
    "[ get_symb(0), get_symb(72), get_symb(192), get_symb(138), get_symb(250) ]"
   ]
  },
  {
   "cell_type": "markdown",
   "id": "5a567d71",
   "metadata": {},
   "source": [
    "##### Once we have this function, we can map any 784-dimensional vector to the corresponding sequence of characters. With this, we can use two nested loops (one over the rows, the other over the columns) to print the resulting grid.  Note that, if we want to print the character at the i-th row and j-th column, we will need to access the (28*i+j)-th value of the 784-dimensional vector."
   ]
  },
  {
   "cell_type": "code",
   "execution_count": 6,
   "id": "eb164b78",
   "metadata": {},
   "outputs": [],
   "source": [
    "def print_dgt(dataset, digit):\n",
    "    symbs = list(map(get_symb, dataset[digit]))\n",
    "    for i in range(28):                  #this loop will iterate over rows\n",
    "        for j in range(28):              #this loop will iterate over columns\n",
    "            print(symbs[i*28+j], end=\"\")\n",
    "        print()"
   ]
  },
  {
   "cell_type": "code",
   "execution_count": 11,
   "id": "83ac7bef",
   "metadata": {},
   "outputs": [
    {
     "name": "stdout",
     "output_type": "stream",
     "text": [
      "                            \n",
      "                            \n",
      "                            \n",
      "                            \n",
      "                            \n",
      "              .#      **    \n",
      "             .##..*#####    \n",
      "            #########*.     \n",
      "           #####***.        \n",
      "          ##*               \n",
      "         *##                \n",
      "         ##                 \n",
      "        .##                 \n",
      "         ###*               \n",
      "         .#####.            \n",
      "            *###*           \n",
      "              *###*         \n",
      "                ###         \n",
      "                .##         \n",
      "                ###         \n",
      "              .###          \n",
      "        .    *###.          \n",
      "       .# .*###*            \n",
      "       .######.             \n",
      "        *##*.               \n",
      "                            \n",
      "                            \n",
      "                            \n"
     ]
    }
   ],
   "source": [
    "print_dgt(dataset, 129)"
   ]
  },
  {
   "cell_type": "markdown",
   "id": "60109540",
   "metadata": {},
   "source": [
    "### Q3. Compute the Euclidean distance between each pair of the 784-dimensional vectors of the digits at the following positions: 26th, 30th , 32nd , 35th .\n",
    "\n",
    "### Info: Remember that Python arrays are indexed from 0, so the kth value will be at position k−1\n",
    "### For this exercise, you need to compute the Euclidean distance between all possible pairs that can be obtained from a list of 4 digits."
   ]
  },
  {
   "cell_type": "code",
   "execution_count": 7,
   "id": "61f40a6d",
   "metadata": {},
   "outputs": [],
   "source": [
    "def Euclidean_Distance(x, y):\n",
    "    return sum([ (x_i - y_i) ** 2 for x_i, y_i in zip(x, y) ]) ** 0.5"
   ]
  },
  {
   "cell_type": "code",
   "execution_count": 8,
   "id": "6ca0e908",
   "metadata": {},
   "outputs": [
    {
     "name": "stdout",
     "output_type": "stream",
     "text": [
      "25 29 3539.223219860539\n",
      "25 31 3556.4199695761467\n",
      "25 34 3223.2069434027967\n",
      "29 31 1171.8293391104355\n",
      "29 34 2531.0033583541526\n",
      "31 34 2515.5599774205343\n"
     ]
    }
   ],
   "source": [
    "positions = [ 25, 29, 31, 34 ]      # Euclidean distance between each pair of the 784-dimensional vectors of the digits \n",
    "for i in range(len(positions)):     # at the following positions: 26th, 30th , 32nd , 35th\n",
    "    for j in range(i+1, len(positions)):\n",
    "        a = positions[i]\n",
    "        b = positions[j]\n",
    "        print(a, b, Euclidean_Distance(dataset[a], dataset[b]))"
   ]
  },
  {
   "cell_type": "code",
   "execution_count": 9,
   "id": "05bfe4c5",
   "metadata": {},
   "outputs": [
    {
     "data": {
      "text/plain": [
       "(1.4142135623730951, 0.0, 1.0)"
      ]
     },
     "execution_count": 9,
     "metadata": {},
     "output_type": "execute_result"
    }
   ],
   "source": [
    "( Euclidean_Distance([0,0], [1,1]), Euclidean_Distance([1,1], [1,1]), Euclidean_Distance([0,0], [0,1]) )"
   ]
  },
  {
   "cell_type": "markdown",
   "id": "216a461e",
   "metadata": {},
   "source": [
    "##### We now know how these 4 digits all relate to one another, in terms of distance. We also know, from the prompt of the exercise, that the 4 digits are a 0, two 1's, and a 7. From the available data, the closest distance is among the digits 29 and 31. We can therefore assume that those two are the 1's in our list. The next consideration comes from the simiarities among the digits \"0\", \"1\" and \"7\". 1's and 7's have similar representations, both quite different from the representation of '0' (one or two straight lines and a circle respectively). Among the remaining digits (25 and 34), 34 has the shortest distance from the already identified 1's. As such, we can expect that to be the '7'. Finally, we can expect the \"0\" to be the 29, as it has the largest distances with the other digits. Thus, we expect to have the following mapping:\n",
    "##### 25: 0\n",
    "##### 29: 1\n",
    "##### 31: 1\n",
    "##### 34: 7\n",
    "##### And, indeed:"
   ]
  },
  {
   "cell_type": "code",
   "execution_count": 11,
   "id": "2733e3a9",
   "metadata": {},
   "outputs": [
    {
     "data": {
      "text/plain": [
       "[0, 1, 1, 7]"
      ]
     },
     "execution_count": 11,
     "metadata": {},
     "output_type": "execute_result"
    }
   ],
   "source": [
    "[ labels[i] for i in (25, 29, 31, 34) ]"
   ]
  },
  {
   "cell_type": "markdown",
   "id": "e7486caa",
   "metadata": {},
   "source": [
    "### Q4. (*) Based on the distances computed in the previous step and knowing that the digits listed in Exercise 3 are (not necessarily in this order) 7, 0, 1, 1, can you assign the correct label to each of the digits of Exercise 3?"
   ]
  },
  {
   "cell_type": "code",
   "execution_count": 10,
   "id": "d01c32e1",
   "metadata": {},
   "outputs": [
    {
     "data": {
      "text/plain": [
       "[0, 1, 1, 7]"
      ]
     },
     "execution_count": 10,
     "metadata": {},
     "output_type": "execute_result"
    }
   ],
   "source": [
    "[ labels[i] for i in (25, 29, 31, 34) ]"
   ]
  },
  {
   "cell_type": "markdown",
   "id": "21bd596d",
   "metadata": {},
   "source": [
    "#####  Labelling can't be done as there are no variations."
   ]
  }
 ],
 "metadata": {
  "kernelspec": {
   "display_name": "Python 3",
   "language": "python",
   "name": "python3"
  },
  "language_info": {
   "codemirror_mode": {
    "name": "ipython",
    "version": 3
   },
   "file_extension": ".py",
   "mimetype": "text/x-python",
   "name": "python",
   "nbconvert_exporter": "python",
   "pygments_lexer": "ipython3",
   "version": "3.8.8"
  }
 },
 "nbformat": 4,
 "nbformat_minor": 5
}
