{
 "cells": [
  {
   "cell_type": "code",
   "execution_count": 2,
   "id": "ab85be5a",
   "metadata": {},
   "outputs": [],
   "source": [
    "import pandas as pd\n",
    "import numpy as np\n",
    "from scipy.stats import chi2_contingency"
   ]
  },
  {
   "cell_type": "code",
   "execution_count": 19,
   "id": "b4742266",
   "metadata": {},
   "outputs": [],
   "source": [
    "titanic = pd.DataFrame([[134,59], [94,25], [80,58]], columns=['Female', 'Male'], index=['1st', '2nd', '3rd'])"
   ]
  },
  {
   "cell_type": "code",
   "execution_count": 4,
   "id": "f26814c6",
   "metadata": {},
   "outputs": [
    {
     "data": {
      "text/html": [
       "<div>\n",
       "<style scoped>\n",
       "    .dataframe tbody tr th:only-of-type {\n",
       "        vertical-align: middle;\n",
       "    }\n",
       "\n",
       "    .dataframe tbody tr th {\n",
       "        vertical-align: top;\n",
       "    }\n",
       "\n",
       "    .dataframe thead th {\n",
       "        text-align: right;\n",
       "    }\n",
       "</style>\n",
       "<table border=\"1\" class=\"dataframe\">\n",
       "  <thead>\n",
       "    <tr style=\"text-align: right;\">\n",
       "      <th></th>\n",
       "      <th>Female</th>\n",
       "      <th>Male</th>\n",
       "    </tr>\n",
       "  </thead>\n",
       "  <tbody>\n",
       "    <tr>\n",
       "      <th>1st</th>\n",
       "      <td>134</td>\n",
       "      <td>59</td>\n",
       "    </tr>\n",
       "    <tr>\n",
       "      <th>2nd</th>\n",
       "      <td>94</td>\n",
       "      <td>25</td>\n",
       "    </tr>\n",
       "    <tr>\n",
       "      <th>3rd</th>\n",
       "      <td>80</td>\n",
       "      <td>58</td>\n",
       "    </tr>\n",
       "  </tbody>\n",
       "</table>\n",
       "</div>"
      ],
      "text/plain": [
       "     Female  Male\n",
       "1st     134    59\n",
       "2nd      94    25\n",
       "3rd      80    58"
      ]
     },
     "execution_count": 4,
     "metadata": {},
     "output_type": "execute_result"
    }
   ],
   "source": [
    "titanic"
   ]
  },
  {
   "cell_type": "markdown",
   "id": "ec664fce",
   "metadata": {},
   "source": [
    "### Problem 1 : The number of people who survived the Titanic based on class and sex is in table #11.1.5 (\"Encyclopedia Titanica,\" 2013). Is there enough evidence to show that the class and the sex of a person who survived the Titanic are independent? Test at the 5% level."
   ]
  },
  {
   "cell_type": "code",
   "execution_count": 5,
   "id": "01500162",
   "metadata": {},
   "outputs": [
    {
     "data": {
      "text/plain": [
       "(13.224787991120508,\n",
       " 0.001343611695639983,\n",
       " 2,\n",
       " array([[132.09777778,  60.90222222],\n",
       "        [ 81.44888889,  37.55111111],\n",
       "        [ 94.45333333,  43.54666667]]))"
      ]
     },
     "execution_count": 5,
     "metadata": {},
     "output_type": "execute_result"
    }
   ],
   "source": [
    "df = chi2_contingency(titanic)\n",
    "df"
   ]
  },
  {
   "cell_type": "code",
   "execution_count": 6,
   "id": "6afba5ef",
   "metadata": {},
   "outputs": [
    {
     "data": {
      "text/html": [
       "<div>\n",
       "<style scoped>\n",
       "    .dataframe tbody tr th:only-of-type {\n",
       "        vertical-align: middle;\n",
       "    }\n",
       "\n",
       "    .dataframe tbody tr th {\n",
       "        vertical-align: top;\n",
       "    }\n",
       "\n",
       "    .dataframe thead th {\n",
       "        text-align: right;\n",
       "    }\n",
       "</style>\n",
       "<table border=\"1\" class=\"dataframe\">\n",
       "  <thead>\n",
       "    <tr style=\"text-align: right;\">\n",
       "      <th></th>\n",
       "      <th>Female</th>\n",
       "      <th>Male</th>\n",
       "    </tr>\n",
       "  </thead>\n",
       "  <tbody>\n",
       "    <tr>\n",
       "      <th>1st</th>\n",
       "      <td>132.10</td>\n",
       "      <td>60.90</td>\n",
       "    </tr>\n",
       "    <tr>\n",
       "      <th>2nd</th>\n",
       "      <td>81.45</td>\n",
       "      <td>37.55</td>\n",
       "    </tr>\n",
       "    <tr>\n",
       "      <th>3rd</th>\n",
       "      <td>94.45</td>\n",
       "      <td>43.55</td>\n",
       "    </tr>\n",
       "  </tbody>\n",
       "</table>\n",
       "</div>"
      ],
      "text/plain": [
       "     Female   Male\n",
       "1st  132.10  60.90\n",
       "2nd   81.45  37.55\n",
       "3rd   94.45  43.55"
      ]
     },
     "execution_count": 6,
     "metadata": {},
     "output_type": "execute_result"
    }
   ],
   "source": [
    "pd.DataFrame(df[3], columns=['Female', 'Male'], index=['1st', '2nd', '3rd']).round(2) # Expected Values"
   ]
  },
  {
   "cell_type": "code",
   "execution_count": 7,
   "id": "7031bc44",
   "metadata": {},
   "outputs": [
    {
     "data": {
      "text/plain": [
       "2"
      ]
     },
     "execution_count": 7,
     "metadata": {},
     "output_type": "execute_result"
    }
   ],
   "source": [
    "dOf = df[2]  # degree of freedom\n",
    "dOf"
   ]
  },
  {
   "cell_type": "code",
   "execution_count": 8,
   "id": "83b7d8e5",
   "metadata": {},
   "outputs": [
    {
     "data": {
      "text/plain": [
       "13.224787991120508"
      ]
     },
     "execution_count": 8,
     "metadata": {},
     "output_type": "execute_result"
    }
   ],
   "source": [
    "chi2 = df[0] # chi square value\n",
    "chi2"
   ]
  },
  {
   "cell_type": "code",
   "execution_count": 20,
   "id": "15df6237",
   "metadata": {},
   "outputs": [
    {
     "name": "stdout",
     "output_type": "stream",
     "text": [
      "pvalue = 0.001\n",
      "significance = 0.05\n",
      "We reject null hypothesis. They are not Independent.\n"
     ]
    }
   ],
   "source": [
    "pvalue = df[1]\n",
    "significance = 0.05\n",
    "\n",
    "print(\"pvalue = %.3f\" %pvalue)\n",
    "print(\"significance = %.2f\" %significance)\n",
    "\n",
    "if(pvalue<significance):\n",
    "    print(\"We reject null hypothesis. They are not Independent.\")\n",
    "else:\n",
    "    print(\"We accept null hypothesis. They are Independent.\")"
   ]
  },
  {
   "cell_type": "markdown",
   "id": "e712d3d5",
   "metadata": {},
   "source": [
    "### Problem 2 : Is there a relationship between autism and what an infant is fed? To determine if there is, a researcher asked mothers of autistic and non-autistic children to say what they fed their infant. The data is in table #11.1.7 (Schulz, Klonoff-Cohen Wingard, Askhoomoff, Macera, Ji & Bacher, 2006). Do the data provide enough evidence to show that that what an infant is fed and autism are independent? Test at the1% level."
   ]
  },
  {
   "cell_type": "code",
   "execution_count": 11,
   "id": "e169d3f9",
   "metadata": {},
   "outputs": [],
   "source": [
    "feeding = pd.DataFrame([[12,39,65],[6,22,10]], \n",
    "columns=['Breast-feeding', 'Formula with DHA/ARA','Formula without DHA/ARA'], index=['Yes', 'No'])"
   ]
  },
  {
   "cell_type": "code",
   "execution_count": 12,
   "id": "51ff4c9b",
   "metadata": {},
   "outputs": [
    {
     "data": {
      "text/html": [
       "<div>\n",
       "<style scoped>\n",
       "    .dataframe tbody tr th:only-of-type {\n",
       "        vertical-align: middle;\n",
       "    }\n",
       "\n",
       "    .dataframe tbody tr th {\n",
       "        vertical-align: top;\n",
       "    }\n",
       "\n",
       "    .dataframe thead th {\n",
       "        text-align: right;\n",
       "    }\n",
       "</style>\n",
       "<table border=\"1\" class=\"dataframe\">\n",
       "  <thead>\n",
       "    <tr style=\"text-align: right;\">\n",
       "      <th></th>\n",
       "      <th>Breast-feeding</th>\n",
       "      <th>Formula with DHA/ARA</th>\n",
       "      <th>Formula without DHA/ARA</th>\n",
       "    </tr>\n",
       "  </thead>\n",
       "  <tbody>\n",
       "    <tr>\n",
       "      <th>Yes</th>\n",
       "      <td>12</td>\n",
       "      <td>39</td>\n",
       "      <td>65</td>\n",
       "    </tr>\n",
       "    <tr>\n",
       "      <th>No</th>\n",
       "      <td>6</td>\n",
       "      <td>22</td>\n",
       "      <td>10</td>\n",
       "    </tr>\n",
       "  </tbody>\n",
       "</table>\n",
       "</div>"
      ],
      "text/plain": [
       "     Breast-feeding  Formula with DHA/ARA  Formula without DHA/ARA\n",
       "Yes              12                    39                       65\n",
       "No                6                    22                       10"
      ]
     },
     "execution_count": 12,
     "metadata": {},
     "output_type": "execute_result"
    }
   ],
   "source": [
    "feeding"
   ]
  },
  {
   "cell_type": "code",
   "execution_count": 13,
   "id": "3155f24e",
   "metadata": {},
   "outputs": [
    {
     "data": {
      "text/plain": [
       "(10.174724544543945,\n",
       " 0.006174284508365947,\n",
       " 2,\n",
       " array([[13.55844156, 45.94805195, 56.49350649],\n",
       "        [ 4.44155844, 15.05194805, 18.50649351]]))"
      ]
     },
     "execution_count": 13,
     "metadata": {},
     "output_type": "execute_result"
    }
   ],
   "source": [
    "df1 = chi2_contingency(feeding)\n",
    "df1"
   ]
  },
  {
   "cell_type": "code",
   "execution_count": 14,
   "id": "2da9d6a6",
   "metadata": {},
   "outputs": [
    {
     "data": {
      "text/html": [
       "<div>\n",
       "<style scoped>\n",
       "    .dataframe tbody tr th:only-of-type {\n",
       "        vertical-align: middle;\n",
       "    }\n",
       "\n",
       "    .dataframe tbody tr th {\n",
       "        vertical-align: top;\n",
       "    }\n",
       "\n",
       "    .dataframe thead th {\n",
       "        text-align: right;\n",
       "    }\n",
       "</style>\n",
       "<table border=\"1\" class=\"dataframe\">\n",
       "  <thead>\n",
       "    <tr style=\"text-align: right;\">\n",
       "      <th></th>\n",
       "      <th>Breast-feeding</th>\n",
       "      <th>Formula with DHA/ARA</th>\n",
       "      <th>Formula without DHA/ARA</th>\n",
       "    </tr>\n",
       "  </thead>\n",
       "  <tbody>\n",
       "    <tr>\n",
       "      <th>Yes</th>\n",
       "      <td>13.56</td>\n",
       "      <td>45.95</td>\n",
       "      <td>56.49</td>\n",
       "    </tr>\n",
       "    <tr>\n",
       "      <th>No</th>\n",
       "      <td>4.44</td>\n",
       "      <td>15.05</td>\n",
       "      <td>18.51</td>\n",
       "    </tr>\n",
       "  </tbody>\n",
       "</table>\n",
       "</div>"
      ],
      "text/plain": [
       "     Breast-feeding  Formula with DHA/ARA  Formula without DHA/ARA\n",
       "Yes           13.56                 45.95                    56.49\n",
       "No             4.44                 15.05                    18.51"
      ]
     },
     "execution_count": 14,
     "metadata": {},
     "output_type": "execute_result"
    }
   ],
   "source": [
    "pd.DataFrame(df1[3], columns=['Breast-feeding', \n",
    "                             'Formula with DHA/ARA','Formula without DHA/ARA'], index=['Yes', 'No']).round(2) # Expected Values"
   ]
  },
  {
   "cell_type": "code",
   "execution_count": 23,
   "id": "cb12cc1d",
   "metadata": {},
   "outputs": [
    {
     "data": {
      "text/plain": [
       "2"
      ]
     },
     "execution_count": 23,
     "metadata": {},
     "output_type": "execute_result"
    }
   ],
   "source": [
    "dOf = df1[2] # degree of freedom\n",
    "dOf"
   ]
  },
  {
   "cell_type": "code",
   "execution_count": 22,
   "id": "0b7fe7f4",
   "metadata": {},
   "outputs": [
    {
     "data": {
      "text/plain": [
       "10.174724544543945"
      ]
     },
     "execution_count": 22,
     "metadata": {},
     "output_type": "execute_result"
    }
   ],
   "source": [
    "chi2 = df1[0] # chi square value\n",
    "chi2"
   ]
  },
  {
   "cell_type": "code",
   "execution_count": 21,
   "id": "5e350fba",
   "metadata": {},
   "outputs": [
    {
     "name": "stdout",
     "output_type": "stream",
     "text": [
      "pvalue = 0.006\n",
      "significance = 0.01\n",
      "We reject null hypothesis. They are not Independent.\n"
     ]
    }
   ],
   "source": [
    "pvalue = df1[1]\n",
    "significance = 0.01\n",
    "\n",
    "print(\"pvalue = %.3f\" %pvalue)\n",
    "print(\"significance = %.2f\" %significance)\n",
    "\n",
    "if(pvalue<significance):\n",
    "    print(\"We reject null hypothesis. They are not Independent.\")\n",
    "else:\n",
    "    print(\"We accept null hypothesis. They are Independent.\")"
   ]
  }
 ],
 "metadata": {
  "kernelspec": {
   "display_name": "Python 3",
   "language": "python",
   "name": "python3"
  },
  "language_info": {
   "codemirror_mode": {
    "name": "ipython",
    "version": 3
   },
   "file_extension": ".py",
   "mimetype": "text/x-python",
   "name": "python",
   "nbconvert_exporter": "python",
   "pygments_lexer": "ipython3",
   "version": "3.8.8"
  }
 },
 "nbformat": 4,
 "nbformat_minor": 5
}
